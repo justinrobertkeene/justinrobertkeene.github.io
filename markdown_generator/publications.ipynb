{
 "cells": [
  {
   "cell_type": "markdown",
   "metadata": {},
   "source": [
    "# Publications markdown generator for academicpages\n",
    "\n",
    "Takes a TSV of publications with metadata and converts them for use with [academicpages.github.io](academicpages.github.io). This is an interactive Jupyter notebook ([see more info here](http://jupyter-notebook-beginner-guide.readthedocs.io/en/latest/what_is_jupyter.html)). The core python code is also in `publications.py`. Run either from the `markdown_generator` folder after replacing `publications.tsv` with one containing your data.\n",
    "\n",
    "TODO: Make this work with BibTex and other databases of citations, rather than Stuart's non-standard TSV format and citation style.\n"
   ]
  },
  {
   "cell_type": "markdown",
   "metadata": {},
   "source": [
    "## Data format\n",
    "\n",
    "The TSV needs to have the following columns: pub_date, title, venue, excerpt, citation, site_url, and paper_url, with a header at the top. \n",
    "\n",
    "- `excerpt` and `paper_url` can be blank, but the others must have values. \n",
    "- `pub_date` must be formatted as YYYY-MM-DD.\n",
    "- `url_slug` will be the descriptive part of the .md file and the permalink URL for the page about the paper. The .md file will be `YYYY-MM-DD-[url_slug].md` and the permalink will be `https://[yourdomain]/publications/YYYY-MM-DD-[url_slug]`\n",
    "\n",
    "This is how the raw file looks (it doesn't look pretty, use a spreadsheet or other program to edit and create)."
   ]
  },
  {
   "cell_type": "code",
   "execution_count": 8,
   "metadata": {},
   "outputs": [
    {
     "name": "stdout",
     "output_type": "stream",
     "text": [
      "pub_date\ttitle\tvenue\texcerpt\tcitation\turl_slug\tpaper_url\r",
      "\r\n",
      "1/1/18\tTaking messages into the magnet: Method-theory synergy in communication neuroscience\tCommunication Monographs\t\"Brain imaging techniques within communication research have rapidly expanded in popularity in recent years, driven by an increase in access to functional magnetic resonance imaging (fMRI) technology and by theoretical developments within the field. In this manuscript, we present an overview of research from within communication and cognate disciplines that has leveraged insights from fMRI research to \"\"push the envelope,\"\" demonstrating a synergy between methodological and theoretical progress. In addition, we provide a review of fMRI technology, methodology, and theoretical considerations, focusing on recent developments in the cognitive and brain sciences that are of special relevance to communication scholars. Finally, we provide a series of practical recommendations and resources for communication scholars interested in conducting fMRI studies.\"\t\"Weber, R.,  Fisher, J.T. , Hopp, F., & Lonergan, C. (2018). Taking messages Into the magnet: Method-theory synergy  in media neuroscience research.  Communication Monographs. 85(1), 85-102\"\tmsgs-into-the-magnet\thttps://www.tandfonline.com/doi/abs/10.1080/03637751.2017.1395059\r",
      "\r\n",
      "11/1/18\tThe limited capacity model of motivated mediated message processing: taking stock of the past\tAnnals of the International Communication Association\t\"In the 15 years since its inception, the Limited Capacity Model of Motivated Mediated Message Processing (LC4MP) has contributed to understanding regarding the dynamics of message processing in a variety of domains. In this manuscript we outline the foundations and assumptions of the LC4MP, discussing salient research from biology, cognitive psychology, and communication upon which the model is built. We then conduct a systematic review of the LC4MP literature with a focus on three primary domains: cognitive load, motivated processing, and memory. In a companion piece (Fisher, Huskey, Keene, & Weber, 2018) we look to the future of the model, incorporating recent findings from communication and cognate fields to inform an updated suite of predictions.\"\t\"Fisher, J. T., Keene, J. R., Huskey, R., & Weber, R. (2018). The limited capacity model of motivated mediated message processing: taking stock of the past. Annals of the International Communication Association, 42(4), 270-290\"\tLC4MP1\thttps://www.tandfonline.com/doi/full/10.1080/23808985.2018.1534552\r",
      "\r\n",
      "11/1/18\tThe limited capacity model of motivated mediated message processing: looking to the future\tAnnals of the International Communication Association\t\"In a companion piece (Fisher, Keene, Huskey, & Weber, 2018), we reviewed the foundations and current state of the Limited Capacity Model of Motivated Mediated Message Processing (LC4MP). In this manuscript we return to the three areas investigated in our review: cognitive load, motivation, and memory. In each domain, we: (a) outline areas in which the LC4MP has produced unexpected or ambiguous findings; (b) look broadly at literature from biology, cognitive psychology, and neuroscience to inform and clarify definitions of key terms; (c) develop an updated, cohesive framework of assumptions and predictions of the LC4MP; and (d) propose a roadmap for testing the proposed framework. We conclude with a discussion of the LC4MP's continued relevance for understanding dynamic, interactive, multimodal communication phenomena.\"\t\"Fisher, J. T., Keene, J. R., Huskey, R., & Weber, R. (2018). The limited capacity model of motivated mediated message processing: looking to the future. Annals of the International Communication Association, 42(4), 291-315\"\tLC4MP2\thttps://www.tandfonline.com/doi/full/10.1080/23808985.2018.1534551"
     ]
    }
   ],
   "source": [
    "!cat publications.tsv"
   ]
  },
  {
   "cell_type": "markdown",
   "metadata": {},
   "source": [
    "## Import pandas\n",
    "\n",
    "We are using the very handy pandas library for dataframes."
   ]
  },
  {
   "cell_type": "code",
   "execution_count": 9,
   "metadata": {
    "collapsed": true
   },
   "outputs": [],
   "source": [
    "import pandas as pd"
   ]
  },
  {
   "cell_type": "markdown",
   "metadata": {},
   "source": [
    "## Import TSV\n",
    "\n",
    "Pandas makes this easy with the read_csv function. We are using a TSV, so we specify the separator as a tab, or `\\t`.\n",
    "\n",
    "I found it important to put this data in a tab-separated values format, because there are a lot of commas in this kind of data and comma-separated values can get messed up. However, you can modify the import statement, as pandas also has read_excel(), read_json(), and others."
   ]
  },
  {
   "cell_type": "code",
   "execution_count": 10,
   "metadata": {},
   "outputs": [
    {
     "data": {
      "text/html": [
       "<div>\n",
       "<style>\n",
       "    .dataframe thead tr:only-child th {\n",
       "        text-align: right;\n",
       "    }\n",
       "\n",
       "    .dataframe thead th {\n",
       "        text-align: left;\n",
       "    }\n",
       "\n",
       "    .dataframe tbody tr th {\n",
       "        vertical-align: top;\n",
       "    }\n",
       "</style>\n",
       "<table border=\"1\" class=\"dataframe\">\n",
       "  <thead>\n",
       "    <tr style=\"text-align: right;\">\n",
       "      <th></th>\n",
       "      <th>pub_date</th>\n",
       "      <th>title</th>\n",
       "      <th>venue</th>\n",
       "      <th>excerpt</th>\n",
       "      <th>citation</th>\n",
       "      <th>url_slug</th>\n",
       "      <th>paper_url</th>\n",
       "    </tr>\n",
       "  </thead>\n",
       "  <tbody>\n",
       "    <tr>\n",
       "      <th>0</th>\n",
       "      <td>1/1/18</td>\n",
       "      <td>Taking messages into the magnet: Method-theory...</td>\n",
       "      <td>Communication Monographs</td>\n",
       "      <td>Brain imaging techniques within communication ...</td>\n",
       "      <td>Weber, R.,  Fisher, J.T. , Hopp, F., &amp; Lonerga...</td>\n",
       "      <td>msgs-into-the-magnet</td>\n",
       "      <td>https://www.tandfonline.com/doi/abs/10.1080/03...</td>\n",
       "    </tr>\n",
       "    <tr>\n",
       "      <th>1</th>\n",
       "      <td>11/1/18</td>\n",
       "      <td>The limited capacity model of motivated mediat...</td>\n",
       "      <td>Annals of the International Communication Asso...</td>\n",
       "      <td>In the 15 years since its inception, the Limit...</td>\n",
       "      <td>Fisher, J. T., Keene, J. R., Huskey, R., &amp; Web...</td>\n",
       "      <td>LC4MP1</td>\n",
       "      <td>https://www.tandfonline.com/doi/full/10.1080/2...</td>\n",
       "    </tr>\n",
       "    <tr>\n",
       "      <th>2</th>\n",
       "      <td>11/1/18</td>\n",
       "      <td>The limited capacity model of motivated mediat...</td>\n",
       "      <td>Annals of the International Communication Asso...</td>\n",
       "      <td>In a companion piece (Fisher, Keene, Huskey, &amp;...</td>\n",
       "      <td>Fisher, J. T., Keene, J. R., Huskey, R., &amp; Web...</td>\n",
       "      <td>LC4MP2</td>\n",
       "      <td>https://www.tandfonline.com/doi/full/10.1080/2...</td>\n",
       "    </tr>\n",
       "  </tbody>\n",
       "</table>\n",
       "</div>"
      ],
      "text/plain": [
       "  pub_date                                              title  \\\n",
       "0   1/1/18  Taking messages into the magnet: Method-theory...   \n",
       "1  11/1/18  The limited capacity model of motivated mediat...   \n",
       "2  11/1/18  The limited capacity model of motivated mediat...   \n",
       "\n",
       "                                               venue  \\\n",
       "0                           Communication Monographs   \n",
       "1  Annals of the International Communication Asso...   \n",
       "2  Annals of the International Communication Asso...   \n",
       "\n",
       "                                             excerpt  \\\n",
       "0  Brain imaging techniques within communication ...   \n",
       "1  In the 15 years since its inception, the Limit...   \n",
       "2  In a companion piece (Fisher, Keene, Huskey, &...   \n",
       "\n",
       "                                            citation              url_slug  \\\n",
       "0  Weber, R.,  Fisher, J.T. , Hopp, F., & Lonerga...  msgs-into-the-magnet   \n",
       "1  Fisher, J. T., Keene, J. R., Huskey, R., & Web...                LC4MP1   \n",
       "2  Fisher, J. T., Keene, J. R., Huskey, R., & Web...                LC4MP2   \n",
       "\n",
       "                                           paper_url  \n",
       "0  https://www.tandfonline.com/doi/abs/10.1080/03...  \n",
       "1  https://www.tandfonline.com/doi/full/10.1080/2...  \n",
       "2  https://www.tandfonline.com/doi/full/10.1080/2...  "
      ]
     },
     "execution_count": 10,
     "metadata": {},
     "output_type": "execute_result"
    }
   ],
   "source": [
    "publications = pd.read_csv(\"publications.tsv\", sep=\"\\t\", header=0)\n",
    "publications\n"
   ]
  },
  {
   "cell_type": "markdown",
   "metadata": {},
   "source": [
    "## Escape special characters\n",
    "\n",
    "YAML is very picky about how it takes a valid string, so we are replacing single and double quotes (and ampersands) with their HTML encoded equivilents. This makes them look not so readable in raw format, but they are parsed and rendered nicely."
   ]
  },
  {
   "cell_type": "code",
   "execution_count": 11,
   "metadata": {
    "collapsed": true
   },
   "outputs": [],
   "source": [
    "html_escape_table = {\n",
    "    \"&\": \"&amp;\",\n",
    "    '\"': \"&quot;\",\n",
    "    \"'\": \"&apos;\"\n",
    "    }\n",
    "\n",
    "def html_escape(text):\n",
    "    \"\"\"Produce entities within text.\"\"\"\n",
    "    return \"\".join(html_escape_table.get(c,c) for c in text)"
   ]
  },
  {
   "cell_type": "markdown",
   "metadata": {},
   "source": [
    "## Creating the markdown files\n",
    "\n",
    "This is where the heavy lifting is done. This loops through all the rows in the TSV dataframe, then starts to concatentate a big string (```md```) that contains the markdown for each type. It does the YAML metadata first, then does the description for the individual page."
   ]
  },
  {
   "cell_type": "code",
   "execution_count": 12,
   "metadata": {},
   "outputs": [],
   "source": [
    "import os\n",
    "for row, item in publications.iterrows():\n",
    "    \n",
    "    md_filename = str(item.pub_date) + \"-\" + item.url_slug + \".md\"\n",
    "    html_filename = str(item.pub_date) + \"-\" + item.url_slug\n",
    "    year = item.pub_date[:4]\n",
    "    \n",
    "    ## YAML variables\n",
    "    \n",
    "    md = \"---\\ntitle: \\\"\"   + item.title + '\"\\n'\n",
    "    \n",
    "    md += \"\"\"collection: publications\"\"\"\n",
    "    \n",
    "    md += \"\"\"\\npermalink: /publication/\"\"\" + html_filename\n",
    "    \n",
    "    if len(str(item.excerpt)) > 5:\n",
    "        md += \"\\nexcerpt: '\" + html_escape(item.excerpt) + \"'\"\n",
    "    \n",
    "    md += \"\\ndate: \" + str(item.pub_date) \n",
    "    \n",
    "    md += \"\\nvenue: '\" + html_escape(item.venue) + \"'\"\n",
    "    \n",
    "    if len(str(item.paper_url)) > 5:\n",
    "        md += \"\\npaperurl: '\" + item.paper_url + \"'\"\n",
    "    \n",
    "    md += \"\\ncitation: '\" + html_escape(item.citation) + \"'\"\n",
    "    \n",
    "    md += \"\\n---\"\n",
    "    \n",
    "    ## Markdown description for individual page\n",
    "        \n",
    "    if len(str(item.excerpt)) > 5:\n",
    "        md += \"\\n\" + html_escape(item.excerpt) + \"\\n\"\n",
    "    \n",
    "    if len(str(item.paper_url)) > 5:\n",
    "        md += \"\\n[Download paper here](\" + item.paper_url + \")\\n\" \n",
    "        \n",
    "    md += \"\\nRecommended citation: \" + item.citation\n",
    "    \n",
    "    md_filename = os.path.basename(md_filename)\n",
    "       \n",
    "    with open(\"../_publications/\" + md_filename, 'w') as f:\n",
    "        f.write(md)"
   ]
  },
  {
   "cell_type": "markdown",
   "metadata": {},
   "source": [
    "These files are in the publications directory, one directory below where we're working from."
   ]
  },
  {
   "cell_type": "code",
   "execution_count": 13,
   "metadata": {},
   "outputs": [
    {
     "name": "stdout",
     "output_type": "stream",
     "text": [
      "18-LC4MP1.md               18-msgs-into-the-magnet.md\r\n",
      "18-LC4MP2.md\r\n"
     ]
    }
   ],
   "source": [
    "!ls ../_publications/"
   ]
  },
  {
   "cell_type": "code",
   "execution_count": 14,
   "metadata": {},
   "outputs": [
    {
     "name": "stdout",
     "output_type": "stream",
     "text": [
      "---\r\n",
      "title: \"Taking messages into the magnet: Method-theory synergy in communication neuroscience\"\r\n",
      "collection: publications\r\n",
      "permalink: /publication/1/1/18-msgs-into-the-magnet\r\n",
      "excerpt: 'Brain imaging techniques within communication research have rapidly expanded in popularity in recent years, driven by an increase in access to functional magnetic resonance imaging (fMRI) technology and by theoretical developments within the field. In this manuscript, we present an overview of research from within communication and cognate disciplines that has leveraged insights from fMRI research to &quot;push the envelope,&quot; demonstrating a synergy between methodological and theoretical progress. In addition, we provide a review of fMRI technology, methodology, and theoretical considerations, focusing on recent developments in the cognitive and brain sciences that are of special relevance to communication scholars. Finally, we provide a series of practical recommendations and resources for communication scholars interested in conducting fMRI studies.'\r\n",
      "date: 1/1/18\r\n",
      "venue: 'Communication Monographs'\r\n",
      "paperurl: 'https://www.tandfonline.com/doi/abs/10.1080/03637751.2017.1395059'\r\n",
      "citation: 'Weber, R.,  Fisher, J.T. , Hopp, F., &amp; Lonergan, C. (2018). Taking messages Into the magnet: Method-theory synergy  in media neuroscience research.  Communication Monographs. 85(1), 85-102'\r\n",
      "---\r\n",
      "Brain imaging techniques within communication research have rapidly expanded in popularity in recent years, driven by an increase in access to functional magnetic resonance imaging (fMRI) technology and by theoretical developments within the field. In this manuscript, we present an overview of research from within communication and cognate disciplines that has leveraged insights from fMRI research to &quot;push the envelope,&quot; demonstrating a synergy between methodological and theoretical progress. In addition, we provide a review of fMRI technology, methodology, and theoretical considerations, focusing on recent developments in the cognitive and brain sciences that are of special relevance to communication scholars. Finally, we provide a series of practical recommendations and resources for communication scholars interested in conducting fMRI studies.\r\n",
      "\r\n",
      "[Download paper here](https://www.tandfonline.com/doi/abs/10.1080/03637751.2017.1395059)\r\n",
      "\r\n",
      "Recommended citation: Weber, R.,  Fisher, J.T. , Hopp, F., & Lonergan, C. (2018). Taking messages Into the magnet: Method-theory synergy  in media neuroscience research.  Communication Monographs. 85(1), 85-102"
     ]
    }
   ],
   "source": [
    "!cat ../_publications/18-msgs-into-the-magnet.md"
   ]
  },
  {
   "cell_type": "code",
   "execution_count": null,
   "metadata": {
    "collapsed": true
   },
   "outputs": [],
   "source": []
  }
 ],
 "metadata": {
  "kernelspec": {
   "display_name": "Python 3",
   "language": "python",
   "name": "python3"
  },
  "language_info": {
   "codemirror_mode": {
    "name": "ipython",
    "version": 3
   },
   "file_extension": ".py",
   "mimetype": "text/x-python",
   "name": "python",
   "nbconvert_exporter": "python",
   "pygments_lexer": "ipython3",
   "version": "3.6.3"
  }
 },
 "nbformat": 4,
 "nbformat_minor": 2
}
